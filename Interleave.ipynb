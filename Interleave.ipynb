{
 "cells": [
  {
   "cell_type": "code",
   "execution_count": 36,
   "metadata": {},
   "outputs": [
    {
     "name": "stdout",
     "output_type": "stream",
     "text": [
      "地\n",
      "ダ\n",
      "絶\n",
      "上\n",
      "メ\n",
      "対\n",
      "波\n",
      "！\n",
      "！\n",
      "['地', 'ダ', '絶', '上', 'メ', '対', '波', '！', '！']\n",
      "\"地ダ絶上メ対波！！ \" \n"
     ]
    }
   ],
   "source": [
    "input = ['地上波', 'ダメ', '絶対！！']\n",
    "array = []\n",
    "j = 0\n",
    "\n",
    "def fetch_onecycle(arg_list):\n",
    "    for i in range(len(arg_list)):\n",
    "        target_list = list(arg_list[i])\n",
    "        if j+1 <= len(target_list):\n",
    "            array.append(target_list[j])\n",
    "            print(target_list[j])\n",
    "        else: \n",
    "            pass\n",
    "            \n",
    "while j <= len(max((x for x in input), key=len)):\n",
    "    fetch_onecycle(input)\n",
    "    j += 1\n",
    "    \n",
    "print(array)\n",
    "\n",
    "array_string = \"\".join(array)\n",
    "\n",
    "print('\"' + array_string + ' \" ')\n"
   ]
  },
  {
   "cell_type": "code",
   "execution_count": null,
   "metadata": {},
   "outputs": [],
   "source": []
  }
 ],
 "metadata": {
  "kernelspec": {
   "display_name": "Python 3",
   "language": "python",
   "name": "python3"
  },
  "language_info": {
   "codemirror_mode": {
    "name": "ipython",
    "version": 3
   },
   "file_extension": ".py",
   "mimetype": "text/x-python",
   "name": "python",
   "nbconvert_exporter": "python",
   "pygments_lexer": "ipython3",
   "version": "3.7.2"
  }
 },
 "nbformat": 4,
 "nbformat_minor": 2
}
