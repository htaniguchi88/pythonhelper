{
 "cells": [
  {
   "cell_type": "code",
   "execution_count": 20,
   "metadata": {},
   "outputs": [
    {
     "name": "stdout",
     "output_type": "stream",
     "text": [
      "Output: \"地ダ絶上メ対波！！ \" \n"
     ]
    }
   ],
   "source": [
    "input = ['地上波', 'ダメ', '絶対！！']\n",
    "\n",
    "def interleave_all_characters(words_list):\n",
    "    \n",
    "    array = []\n",
    "    j = 0\n",
    "\n",
    "    def interleave_one_character_of_each_word(_list):\n",
    "        for i in range(len(words_list)):\n",
    "            one_word_list = list(words_list[i])\n",
    "            if j+1 <= len(one_word_list):\n",
    "                array.append(one_word_list[j])\n",
    "            else: \n",
    "                pass\n",
    "\n",
    "    while j <= len(max((k for k in input))):\n",
    "        interleave_one_character_of_each_word(input)\n",
    "        j += 1\n",
    "        \n",
    "    array_string = \"\".join(array)\n",
    "\n",
    "    print('Output: \"' + array_string + ' \" ')\n",
    "\n",
    "interleave_all_characters(input)        \n",
    "        "
   ]
  }
 ],
 "metadata": {
  "kernelspec": {
   "display_name": "Python 3",
   "language": "python",
   "name": "python3"
  },
  "language_info": {
   "codemirror_mode": {
    "name": "ipython",
    "version": 3
   },
   "file_extension": ".py",
   "mimetype": "text/x-python",
   "name": "python",
   "nbconvert_exporter": "python",
   "pygments_lexer": "ipython3",
   "version": "3.7.2"
  }
 },
 "nbformat": 4,
 "nbformat_minor": 2
}
